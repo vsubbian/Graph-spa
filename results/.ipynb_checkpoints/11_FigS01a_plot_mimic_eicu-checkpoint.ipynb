{
 "cells": [
  {
   "cell_type": "code",
   "execution_count": 1,
   "id": "8f23cfc4-25f8-4759-8f7f-edf26769e0e2",
   "metadata": {
    "tags": []
   },
   "outputs": [],
   "source": [
    "import pickle\n",
    "import numpy as np\n",
    "import matplotlib.pyplot as plt\n",
    "from sklearn.metrics import roc_curve, auc, precision_recall_curve, average_precision_score, f1_score, matthews_corrcoef\n",
    "import seaborn as sns\n",
    "sns.set()\n",
    "from sklearn import metrics\n",
    "import numpy as np\n",
    "from brokenaxes import brokenaxes\n",
    "from tqdm.notebook import tqdm"
   ]
  },
  {
   "cell_type": "code",
   "execution_count": 2,
   "id": "74f573bb-ab96-4b9f-aa32-e75b0f2e43f9",
   "metadata": {
    "tags": []
   },
   "outputs": [],
   "source": [
    "with open('model_outputs/extval_mimic_eicu/extval_mimic4_eicu_targets.pkl', 'rb') as f:\n",
    "    targets = pickle.load(f)  \n",
    "\n",
    "with open('model_outputs/extval_mimic_eicu/gru_extvalmimiceicu_model_outputs.pkl', 'rb') as f:\n",
    "    gru_output = pickle.load(f)  \n",
    "\n",
    "with open('model_outputs/extval_mimic_eicu/lstm_extvalmimiceicu_model_outputs.pkl', 'rb') as f:\n",
    "    lstm_output = pickle.load(f)  \n",
    "\n",
    "with open('model_outputs/extval_mimic_eicu/tcn_extvalmimiceicu_model_outputs.pkl', 'rb') as f:\n",
    "    tcn_output = pickle.load(f) \n",
    "\n",
    "with open('model_outputs/extval_mimic_eicu/tf_extvalmimiceicu_model_outputs.pkl', 'rb') as f:\n",
    "    tf_output = pickle.load(f)  \n",
    "      \n",
    "with open('model_outputs/extval_mimic_eicu/gnn_extval_mimic4_eicu_model_outputs.pkl', 'rb') as f:\n",
    "    gnn_output = pickle.load(f)  "
   ]
  },
  {
   "cell_type": "code",
   "execution_count": 3,
   "id": "e289f9c8-01f8-4950-bae6-f6910ef7b619",
   "metadata": {
    "tags": []
   },
   "outputs": [],
   "source": [
    "def mcc_f1_multiple_models(ground_truths, predicted_values_list, model_names):\n",
    "    \"\"\"\n",
    "    Calculates MCC and F1 scores for multiple models.\n",
    "    \n",
    "    Parameters\n",
    "    ----------\n",
    "    ground_truths : numpy.ndarray\n",
    "        True values.\n",
    "    predicted_values_list : list of numpy.ndarray\n",
    "        List of predicted values for different models.\n",
    "    model_names : list of str\n",
    "        List of model names.\n",
    "    \n",
    "    Returns\n",
    "    -------\n",
    "    results : dict\n",
    "        Dictionary containing MCC, F1 scores, and thresholds for each model.\n",
    "    \"\"\"\n",
    "    results = {}\n",
    "    \n",
    "    for predicted_values, model_name in zip(predicted_values_list, model_names):\n",
    "        precision, recall, thresholds = metrics.precision_recall_curve(ground_truths, predicted_values)\n",
    "        mcc = np.zeros(thresholds.shape)\n",
    "        f1 = np.zeros(thresholds.shape)\n",
    "        \n",
    "        for index, T in enumerate(thresholds):\n",
    "            predicted_values_after_cutoff = predicted_values > T\n",
    "            mcc[index] = (metrics.matthews_corrcoef(ground_truths, predicted_values_after_cutoff) + 1) * 0.5\n",
    "            f1[index] = metrics.f1_score(ground_truths, predicted_values_after_cutoff)\n",
    "        \n",
    "        results[model_name] = {'mcc': mcc, 'f1': f1, 'thresholds': thresholds}\n",
    "    \n",
    "    return results"
   ]
  },
  {
   "cell_type": "code",
   "execution_count": 4,
   "id": "90142d2f-8503-480d-9f91-9be80b9b742e",
   "metadata": {
    "tags": []
   },
   "outputs": [],
   "source": [
    "def MCC_F1_Metric_multiple_models(results, W_num_of_subranges=100):\n",
    "    \"\"\"\n",
    "    Computes the MCC-F1 metric and the best threshold for multiple models.\n",
    "    \n",
    "    Parameters\n",
    "    ----------\n",
    "    results : dict\n",
    "        Dictionary containing MCC, F1 scores, and thresholds for each model.\n",
    "    W_num_of_subranges : int, optional\n",
    "        Number of subranges (default is 100).\n",
    "    \n",
    "    Returns\n",
    "    -------\n",
    "    metrics : dict\n",
    "        Dictionary containing MCC-F1 metric and best threshold for each model.\n",
    "    \"\"\"\n",
    "    metrics_results = {}\n",
    "    \n",
    "    for model_name, data in results.items():\n",
    "        mcc, f1, thresholds = data['mcc'], data['f1'], data['thresholds']\n",
    "        subrange_intervals = np.linspace(np.min(mcc), np.max(mcc), W_num_of_subranges)\n",
    "        values_per_subrange = np.zeros_like(subrange_intervals)\n",
    "        \n",
    "        for i in range(W_num_of_subranges-1):\n",
    "            for j in mcc:\n",
    "                if j >= subrange_intervals[i] and j < subrange_intervals[i+1]:\n",
    "                    values_per_subrange[i] = values_per_subrange[i] + 1\n",
    "        \n",
    "        Distance_of_points_within_subrange = np.sqrt(((mcc-1)**2) + ((f1-1)**2))\n",
    "        sum_of_distance_within_subrange = np.zeros_like(subrange_intervals)\n",
    "        index = -1\n",
    "        \n",
    "        for value in mcc:\n",
    "            index += 1\n",
    "            for i in range(W_num_of_subranges-1):\n",
    "                if value >= subrange_intervals[i] and value < subrange_intervals[i+1]:\n",
    "                    sum_of_distance_within_subrange[i] += Distance_of_points_within_subrange[index]\n",
    "        \n",
    "        mean_Distance_per_subrange = np.array(sum_of_distance_within_subrange / values_per_subrange)\n",
    "        total_number_of_subranges = 0\n",
    "        total_sum_of_mean_distances = 0\n",
    "        \n",
    "        for i in mean_Distance_per_subrange:\n",
    "            if not np.isnan(i):\n",
    "                total_number_of_subranges += 1\n",
    "                total_sum_of_mean_distances += i\n",
    "        \n",
    "        grand_mean_distance = total_sum_of_mean_distances / total_number_of_subranges\n",
    "        MCC_F1_Met = 1 - (grand_mean_distance / np.sqrt(2))\n",
    "        \n",
    "        result = np.where(Distance_of_points_within_subrange == Distance_of_points_within_subrange.min())\n",
    "        Best_threshold = result[0][0]\n",
    "        \n",
    "        metrics_results[model_name] = {'MCC_F1_Met': MCC_F1_Met, 'Best_threshold': Best_threshold, 'threshold_value': thresholds[Best_threshold]}\n",
    "    \n",
    "    return metrics_results"
   ]
  },
  {
   "cell_type": "code",
   "execution_count": 5,
   "id": "45c78715-6e93-442a-ac96-d933db4b5d37",
   "metadata": {
    "tags": []
   },
   "outputs": [],
   "source": [
    "def mcc_f1_multiple_models(ground_truths, predicted_values_list, model_names):\n",
    "    \"\"\"\n",
    "    Calculates MCC and F1 scores for multiple models.\n",
    "    \n",
    "    Parameters\n",
    "    ----------\n",
    "    ground_truths : numpy.ndarray\n",
    "        True values.\n",
    "    predicted_values_list : list of numpy.ndarray\n",
    "        List of predicted values for different models.\n",
    "    model_names : list of str\n",
    "        List of model names.\n",
    "    \n",
    "    Returns\n",
    "    -------\n",
    "    results : dict\n",
    "        Dictionary containing MCC, F1 scores, and thresholds for each model.\n",
    "    \"\"\"\n",
    "    results = {}\n",
    "    \n",
    "    for predicted_values, model_name in zip(predicted_values_list, model_names):\n",
    "        precision, recall, th_main = metrics.precision_recall_curve(ground_truths, predicted_values)\n",
    "        # precision, recall, thresholds = metrics.precision_recall_curve(ground_truths, predicted_values)\n",
    "        thresholds = np.linspace(th_main.min(), th_main.max(), 1000)\n",
    "        # print('thresolds are', len(thresholds))\n",
    "        # print('min', min(thresholds), 'max', max(thresholds), thresholds[:20])\n",
    "        mcc = np.zeros(thresholds.shape)\n",
    "        f1 = np.zeros(thresholds.shape)\n",
    "        \n",
    "        for index, T in tqdm(enumerate(thresholds)):\n",
    "            predicted_values_after_cutoff = predicted_values > T\n",
    "            mcc[index] = (metrics.matthews_corrcoef(ground_truths, predicted_values_after_cutoff) + 1) * 0.5\n",
    "            f1[index] = metrics.f1_score(ground_truths, predicted_values_after_cutoff)\n",
    "        \n",
    "        results[model_name] = {'mcc': mcc, 'f1': f1, 'thresholds': thresholds}\n",
    "\n",
    "    \n",
    "    return results\n",
    "\n",
    "def MCC_F1_Metric_multiple_models(results, W_num_of_subranges=100):\n",
    "    \"\"\"\n",
    "    Computes the MCC-F1 metric and the best threshold for multiple models.\n",
    "    \n",
    "    Parameters\n",
    "    ----------\n",
    "    results : dict\n",
    "        Dictionary containing MCC, F1 scores, and thresholds for each model.\n",
    "    W_num_of_subranges : int, optional\n",
    "        Number of subranges (default is 100).\n",
    "    \n",
    "    Returns\n",
    "    -------\n",
    "    metrics : dict\n",
    "        Dictionary containing MCC-F1 metric and best threshold for each model.\n",
    "    \"\"\"\n",
    "    metrics_results = {}\n",
    "    \n",
    "    for model_name, data in results.items():\n",
    "        mcc, f1, thresholds = data['mcc'], data['f1'], data['thresholds']\n",
    "        subrange_intervals = np.linspace(np.min(mcc), np.max(mcc), W_num_of_subranges)\n",
    "        values_per_subrange = np.zeros_like(subrange_intervals)\n",
    "        \n",
    "        for i in range(W_num_of_subranges-1):\n",
    "            for j in mcc:\n",
    "                if j >= subrange_intervals[i] and j < subrange_intervals[i+1]:\n",
    "                    values_per_subrange[i] = values_per_subrange[i] + 1\n",
    "        \n",
    "        Distance_of_points_within_subrange = np.sqrt(((mcc-1)**2) + ((f1-1)**2))\n",
    "        sum_of_distance_within_subrange = np.zeros_like(subrange_intervals)\n",
    "        index = -1\n",
    "        \n",
    "        for value in mcc:\n",
    "            index += 1\n",
    "            for i in range(W_num_of_subranges-1):\n",
    "                if value >= subrange_intervals[i] and value < subrange_intervals[i+1]:\n",
    "                    sum_of_distance_within_subrange[i] += Distance_of_points_within_subrange[index]\n",
    "        \n",
    "        mean_Distance_per_subrange = np.array(sum_of_distance_within_subrange / values_per_subrange)\n",
    "        total_number_of_subranges = 0\n",
    "        total_sum_of_mean_distances = 0\n",
    "        \n",
    "        for i in mean_Distance_per_subrange:\n",
    "            if not np.isnan(i):\n",
    "                total_number_of_subranges += 1\n",
    "                total_sum_of_mean_distances += i\n",
    "        \n",
    "        grand_mean_distance = total_sum_of_mean_distances / total_number_of_subranges\n",
    "        MCC_F1_Met = 1 - (grand_mean_distance / np.sqrt(2))\n",
    "        \n",
    "        result = np.where(Distance_of_points_within_subrange == Distance_of_points_within_subrange.min())\n",
    "        Best_threshold = result[0][0]\n",
    "        \n",
    "        metrics_results[model_name] = {'MCC_F1_Met': MCC_F1_Met, 'Best_threshold': Best_threshold, 'threshold_value': thresholds[Best_threshold]}\n",
    "    \n",
    "    return metrics_results"
   ]
  },
  {
   "cell_type": "code",
   "execution_count": 6,
   "id": "0a294f30-866e-434f-a6c8-f608aa307109",
   "metadata": {
    "tags": []
   },
   "outputs": [],
   "source": [
    "def plotting_models_comparison(results, metrics_results):\n",
    "    \"\"\"\n",
    "    Generates a single plot for MCC and F1 scores for multiple models for comparison.\n",
    "    \n",
    "    Parameters\n",
    "    ----------\n",
    "    results : dict\n",
    "        Dictionary containing MCC, F1 scores, and thresholds for each model.\n",
    "    metrics_results : dict\n",
    "        Dictionary containing MCC-F1 metric and best threshold for each model.\n",
    "    \"\"\"\n",
    "    fig = plt.figure(figsize=(10, 10))\n",
    "    bax = brokenaxes(ylims=((-0.01, 0.05), (0.45, 0.70), (0.98,1.02)), hspace=0.05)\n",
    "    \n",
    "    # colors = ['b', 'g', 'r', 'c', 'm']  # Define a list of colors for different models\n",
    "    colors = plt.get_cmap('tab10').colors\n",
    "    \n",
    "    for idx, ((model_name, data), color) in enumerate(zip(results.items(), colors)):\n",
    "        mcc, f1, thresholds = data['mcc'], data['f1'], data['thresholds']\n",
    "        MCC_F1_Met = metrics_results[model_name]['MCC_F1_Met']\n",
    "        Best_threshold = metrics_results[model_name]['Best_threshold']\n",
    "        threshold_value = metrics_results[model_name]['threshold_value']\n",
    "        \n",
    "        bax.plot(f1, mcc, linewidth=2, alpha=0.8, color=color, label=f'{model_name}')\n",
    "        bax.scatter(f1[Best_threshold], mcc[Best_threshold], color=color, s=100)\n",
    "        \n",
    "        \n",
    "    # Annotate worst and perfect performance points\n",
    "    bax.scatter(0, 0, color='black', linewidth=4)\n",
    "    bax.annotate('Theoretical Worst performance', (0, 0), textcoords=\"offset points\", xytext=(9, 2), ha='left', size=16)\n",
    "    bax.scatter(1, 1, color='black', linewidth=4)\n",
    "    bax.annotate('Theoretical Best performance', (1, 1), textcoords=\"offset points\", xytext=(-9, 2), ha='right', size=16)\n",
    "\n",
    "    bax.axhline(y=0.5, xmin=0.05, xmax=0.95, linewidth=2, color='k', linestyle='--')\n",
    "    bax.annotate('Random prediction line', xy=(0, 0.5), xytext=(10, -20),\n",
    "                color='k', xycoords='data', textcoords=\"offset points\", va=\"bottom\")\n",
    "    \n",
    "    bax.set_xlabel('F1 score', fontsize=14)\n",
    "    bax.set_ylabel('unit−normalized MCC',fontsize=14)\n",
    "    fig.suptitle('MCC-F1 curve',fontsize=14)\n",
    "    \n",
    "    # Customizing the plot\n",
    "    bax.grid(True, which='both', linestyle='--', linewidth=0.5, color='gray', alpha=0.7)\n",
    "    bax.set_facecolor('white')\n",
    "    \n",
    "    for ax in bax.axs:\n",
    "        # ax.set_facecolor('white')\n",
    "        for spine in ax.spines.values():\n",
    "            spine.set_visible(False)\n",
    "    \n",
    "    bax.legend(loc='upper left', fontsize=14, bbox_to_anchor=(0.1, 0.85), title='Models', title_fontsize=14, fancybox=True, framealpha=1.0, facecolor='white')\n",
    "    \n",
    "    # plt.tight_layout()\n",
    "    \n",
    "    plt.show()\n",
    "    # plt.savefig('f1mcc.png', dpi=600, bbox_inches='tight', pad_inches=0.1)"
   ]
  },
  {
   "cell_type": "code",
   "execution_count": 8,
   "id": "b8d8c9f2-1761-46f1-a66c-1803211e6b06",
   "metadata": {
    "tags": []
   },
   "outputs": [],
   "source": [
    "y_true = np.asarray(targets)\n",
    "y_pred1= np.asarray(gru_output)\n",
    "y_pred2= np.asarray(lstm_output)\n",
    "y_pred3= np.asarray(tcn_output)\n",
    "y_pred4= np.asarray(tf_output)\n",
    "y_pred5= np.asarray(gnnb0)\n",
    "y_pred6= np.asarray(gnn_output)"
   ]
  },
  {
   "cell_type": "code",
   "execution_count": 9,
   "id": "18eff89f-2639-478d-b5ea-663ae1848b4b",
   "metadata": {
    "tags": []
   },
   "outputs": [
    {
     "data": {
      "text/plain": [
       "((713381,), (713381,), (713381,), (713381,), (713381,), (713381,), (713381,))"
      ]
     },
     "execution_count": 9,
     "metadata": {},
     "output_type": "execute_result"
    }
   ],
   "source": [
    "y_true.shape,y_pred1.shape, y_pred2.shape, y_pred3.shape, y_pred4.shape, y_pred5.shape, y_pred6.shape"
   ]
  },
  {
   "cell_type": "code",
   "execution_count": 10,
   "id": "273a5c69-895f-49db-b21e-55a72ea97bb8",
   "metadata": {
    "tags": []
   },
   "outputs": [
    {
     "data": {
      "application/vnd.jupyter.widget-view+json": {
       "model_id": "87548ca1b5054856ab82884ca3cb9227",
       "version_major": 2,
       "version_minor": 0
      },
      "text/plain": [
       "0it [00:00, ?it/s]"
      ]
     },
     "metadata": {},
     "output_type": "display_data"
    },
    {
     "data": {
      "application/vnd.jupyter.widget-view+json": {
       "model_id": "7c17cf2ed5494ea39b6cabf727705c24",
       "version_major": 2,
       "version_minor": 0
      },
      "text/plain": [
       "0it [00:00, ?it/s]"
      ]
     },
     "metadata": {},
     "output_type": "display_data"
    },
    {
     "data": {
      "application/vnd.jupyter.widget-view+json": {
       "model_id": "da5cbe43a43340ac8fb5f0e32c2911bd",
       "version_major": 2,
       "version_minor": 0
      },
      "text/plain": [
       "0it [00:00, ?it/s]"
      ]
     },
     "metadata": {},
     "output_type": "display_data"
    },
    {
     "data": {
      "application/vnd.jupyter.widget-view+json": {
       "model_id": "68f74794d71b425e8dd49a1003c9e447",
       "version_major": 2,
       "version_minor": 0
      },
      "text/plain": [
       "0it [00:00, ?it/s]"
      ]
     },
     "metadata": {},
     "output_type": "display_data"
    },
    {
     "data": {
      "application/vnd.jupyter.widget-view+json": {
       "model_id": "3fded4358b364dbcbc5fd516794b9391",
       "version_major": 2,
       "version_minor": 0
      },
      "text/plain": [
       "0it [00:00, ?it/s]"
      ]
     },
     "metadata": {},
     "output_type": "display_data"
    },
    {
     "data": {
      "application/vnd.jupyter.widget-view+json": {
       "model_id": "05601a0695154e6b8c36736dafe3fa82",
       "version_major": 2,
       "version_minor": 0
      },
      "text/plain": [
       "0it [00:00, ?it/s]"
      ]
     },
     "metadata": {},
     "output_type": "display_data"
    }
   ],
   "source": [
    "ground_truths = y_true # Your true values\n",
    "# predicted_values_list = [y_pred1, y_pred2, y_pred3, y_pred4, y_pred5] \n",
    "predicted_values_list = [y_pred1, y_pred2, y_pred3, y_pred4, y_pred5, y_pred6] \n",
    "# predicted_values_list = [y_pred5] \n",
    "                         #np.array([...]), np.array([...]), np.array([...])\n",
    "                        # ]  # Predictions from 5 models\n",
    "\n",
    "# model_names = ['GRU', 'LSTM', 'TCN', 'TF', 'GNN']\n",
    "model_names = ['GRU', 'LSTM', 'TCN', 'TF', 'GNN b0', 'GNN dae']\n",
    "# model_names = ['GNN']\n",
    "\n",
    "# Calculate MCC and F1 scores\n",
    "results = mcc_f1_multiple_models(ground_truths, predicted_values_list, model_names)"
   ]
  },
  {
   "cell_type": "code",
   "execution_count": 42,
   "id": "416e5331-d22a-448c-b704-20189e3ac824",
   "metadata": {
    "tags": []
   },
   "outputs": [],
   "source": [
    "# results"
   ]
  },
  {
   "cell_type": "markdown",
   "id": "609fad42-4f36-4419-95a2-6c91197cf942",
   "metadata": {},
   "source": [
    "## the above calculation takes a while to calculate hence its saved as a pkl for reproduction¶"
   ]
  },
  {
   "cell_type": "code",
   "execution_count": 12,
   "id": "dd51242b-f819-4d61-b2ae-c0f0f144b994",
   "metadata": {
    "tags": []
   },
   "outputs": [
    {
     "name": "stderr",
     "output_type": "stream",
     "text": [
      "/tmp/ipykernel_677900/1891917873.py:78: RuntimeWarning: invalid value encountered in divide\n",
      "  mean_Distance_per_subrange = np.array(sum_of_distance_within_subrange / values_per_subrange)\n"
     ]
    }
   ],
   "source": [
    "# Compute MCC-F1 metrics\n",
    "metrics_results = MCC_F1_Metric_multiple_models(final_results)"
   ]
  },
  {
   "cell_type": "code",
   "execution_count": null,
   "id": "bc9d9ebe-9ac0-41e0-98ae-483d6cba94dc",
   "metadata": {},
   "outputs": [],
   "source": [
    "### save these results to pickle"
   ]
  },
  {
   "cell_type": "code",
   "execution_count": 8,
   "id": "31d497d0-bf49-4500-90ef-146222486ac8",
   "metadata": {
    "tags": []
   },
   "outputs": [],
   "source": [
    "# with open('model_outputs/extval_mimic_eicu/f1mcc_1000threshold_results_extval_mimic_eicu.pkl', 'wb') as f:\n",
    "#     pickle.dump(results, f)"
   ]
  },
  {
   "cell_type": "code",
   "execution_count": 9,
   "id": "feea2ce1-cf2d-4013-9103-49d843cc0694",
   "metadata": {
    "tags": []
   },
   "outputs": [],
   "source": [
    "# Load the data from the pickle file\n",
    "with open('model_outputs/extval_mimic_eicu/f1mcc_1000threshold_results_extval_mimic_eicu.pkl', 'rb') as f:\n",
    "    results = pickle.load(f)"
   ]
  },
  {
   "cell_type": "code",
   "execution_count": 15,
   "id": "4082c324-5e3b-42cb-9997-3bbd4dc3cf9a",
   "metadata": {
    "tags": []
   },
   "outputs": [],
   "source": [
    "final_results = results"
   ]
  },
  {
   "cell_type": "code",
   "execution_count": 10,
   "id": "f1c30b15-0950-4d47-b5c2-89fd9a08b918",
   "metadata": {
    "tags": []
   },
   "outputs": [
    {
     "name": "stderr",
     "output_type": "stream",
     "text": [
      "/tmp/ipykernel_703446/1891917873.py:78: RuntimeWarning: invalid value encountered in divide\n",
      "  mean_Distance_per_subrange = np.array(sum_of_distance_within_subrange / values_per_subrange)\n"
     ]
    }
   ],
   "source": [
    "# Compute MCC-F1 metrics\n",
    "metrics_results = MCC_F1_Metric_multiple_models(results)"
   ]
  },
  {
   "cell_type": "code",
   "execution_count": 12,
   "id": "a337f617-2597-4834-993a-0df135469576",
   "metadata": {
    "tags": []
   },
   "outputs": [
    {
     "data": {
      "text/plain": [
       "dict_keys(['GRU', 'LSTM', 'TCN', 'TF', 'GNN'])"
      ]
     },
     "execution_count": 12,
     "metadata": {},
     "output_type": "execute_result"
    }
   ],
   "source": [
    "metrics_results.keys()"
   ]
  },
  {
   "cell_type": "code",
   "execution_count": 16,
   "id": "6654b28c-864f-4e57-94f4-d60b9a20e715",
   "metadata": {},
   "outputs": [],
   "source": [
    "# Rename mapping\n",
    "rename_mapping = {\n",
    "    'TF': 'Transformer',\n",
    "    'GNN': 'STGNN-DAE',\n",
    "}\n",
    "\n",
    "# Desired new order with renamed keys\n",
    "new_order = ['LSTM', 'GRU', 'TCN', 'Transformer', 'STGNN-DAE']\n",
    "\n",
    "# Reverse mapping to find original keys for lookup\n",
    "reverse_mapping = {v: k for k, v in rename_mapping.items()}\n",
    "\n",
    "# Rename and reorder\n",
    "reordered_dict = {\n",
    "    key: final_results[reverse_mapping.get(key, key)]\n",
    "    for key in new_order\n",
    "}"
   ]
  },
  {
   "cell_type": "code",
   "execution_count": 17,
   "id": "44c4e450-3c33-45a0-88bb-b0d819031be9",
   "metadata": {
    "tags": []
   },
   "outputs": [
    {
     "name": "stderr",
     "output_type": "stream",
     "text": [
      "/tmp/ipykernel_703446/1891917873.py:78: RuntimeWarning: invalid value encountered in divide\n",
      "  mean_Distance_per_subrange = np.array(sum_of_distance_within_subrange / values_per_subrange)\n"
     ]
    }
   ],
   "source": [
    "metrics_results = MCC_F1_Metric_multiple_models(reordered_dict)"
   ]
  },
  {
   "cell_type": "code",
   "execution_count": 22,
   "id": "e80575df-c0cc-4d77-9058-7f19793e7dcf",
   "metadata": {},
   "outputs": [],
   "source": [
    "def plotting_models_comparison(results, metrics_results):\n",
    "    \"\"\"\n",
    "    Generates a single plot for MCC and F1 scores for multiple models for comparison.\n",
    "    \n",
    "    Parameters\n",
    "    ----------\n",
    "    results : dict\n",
    "        Dictionary containing MCC, F1 scores, and thresholds for each model.\n",
    "    metrics_results : dict\n",
    "        Dictionary containing MCC-F1 metric and best threshold for each model.\n",
    "    \"\"\"\n",
    "    fig = plt.figure(figsize=(8, 8))\n",
    "    bax = brokenaxes(ylims=((-0.01, 0.05), (0.45, 0.70), (0.95,1.02)),xlims=((-0.01, 0.7),(0.95, 1.02),), hspace=0.1, wspace=0.1, width_ratios=[19,1], height_ratios=[1,9,1])\n",
    "    \n",
    "    # colors = ['b', 'g', 'r', 'c', 'm']  # Define a list of colors for different models\n",
    "    # colors = plt.get_cmap('tab10').colors\n",
    "    colors = ['#a6611a', '#dfc27d', '#80cdc1', '#018571', \n",
    "              # '#ca0020', \n",
    "              '#5e3c99']\n",
    "    \n",
    "    for idx, ((model_name, data), color) in enumerate(zip(results.items(), colors)):\n",
    "        mcc, f1, thresholds = data['mcc'], data['f1'], data['thresholds']\n",
    "        MCC_F1_Met = metrics_results[model_name]['MCC_F1_Met']\n",
    "        Best_threshold = metrics_results[model_name]['Best_threshold']\n",
    "        threshold_value = metrics_results[model_name]['threshold_value']\n",
    "        print(MCC_F1_Met)\n",
    "        # bax.plot(f1, mcc, linewidth=4, alpha=0.8, color=color, label=f'{model_name}+\"({MCC_F1_Met})\"')\n",
    "        bax.plot(f1, mcc, linewidth=4, alpha=0.8, color=color, label=f'{model_name}') \n",
    "                 # ({MCC_F1_Met:.3f})\n",
    "                 # ')\n",
    "        bax.scatter(f1[Best_threshold], mcc[Best_threshold], color=color, s=100)\n",
    "               \n",
    "    # Annotate worst and perfect performance points\n",
    "    bax.scatter(0, 0, color='black', linewidth=4)\n",
    "    bax.annotate('Theoretical Worst performance', (0, 0), textcoords=\"offset points\", xytext=(9, 2), ha='left', size=16)\n",
    "    bax.scatter(1, 1, color='black', linewidth=4)\n",
    "    bax.annotate('Theoretical Best performance', (1, 1), textcoords=\"offset points\", xytext=(-9, 2), ha='right', size=16)\n",
    "\n",
    "    bax.axhline(y=0.5, xmin=0.05, xmax=0.95, linewidth=2, color='k', linestyle='--')\n",
    "    bax.annotate('Random prediction line', xy=(0, 0.5), xytext=(10, -20),\n",
    "                color='k', xycoords='data', textcoords=\"offset points\", va=\"bottom\")\n",
    "    \n",
    "    bax.set_xlabel('F1 score', fontsize=14,  labelpad=30)\n",
    "    bax.set_ylabel('unit−normalized MCC',fontsize=14,labelpad=40)\n",
    "    fig.suptitle('MCC-F1 curve',fontsize=14)\n",
    "    \n",
    "    # Customizing the plot\n",
    "    bax.grid(True, which='both', linestyle='--', linewidth=0.5, color='gray', alpha=0.7)\n",
    "    bax.set_facecolor('white')\n",
    "    \n",
    "    # for ax in bax.axs:\n",
    "    #     # ax.set_facecolor('white')\n",
    "    #     for spine in ax.spines.values():\n",
    "    #         spine.set_visible(False)\n",
    "    \n",
    "    # bax.legend(loc='upper left', fontsize=12, \n",
    "    bax.legend(loc='best', fontsize=12,\n",
    "               bbox_to_anchor=(0.7, 0.45), \n",
    "               title='Models', title_fontsize=12, fancybox=True, framealpha=0.8, facecolor='white')\n",
    "    \n",
    "    # plt.tight_layout()\n",
    "    plt.show()\n",
    "    # plt.savefig('figures_jbi/suppl_extval_trainmimic_testeicu_f1mcc.png', dpi=600, bbox_inches='tight', pad_inches=0.1)"
   ]
  },
  {
   "cell_type": "code",
   "execution_count": 23,
   "id": "f8b8a8af-937f-4f6d-801a-f7adc46b0945",
   "metadata": {
    "tags": []
   },
   "outputs": [
    {
     "name": "stdout",
     "output_type": "stream",
     "text": [
      "0.421541527239478\n",
      "0.4333830116473688\n",
      "0.4320535739940724\n",
      "0.41903088551844825\n",
      "0.4233027615533189\n"
     ]
    },
    {
     "data": {
      "image/png": "[encoded data removed]",
      "text/plain": [
       "<Figure size 800x800 with 7 Axes>"
      ]
     },
     "metadata": {},
     "output_type": "display_data"
    }
   ],
   "source": [
    "# Plot the results for comparison\n",
    "# plotting_models_comparison(results, metrics_results)\n",
    "# Plot the results for comparison\n",
    "plotting_models_comparison(reordered_dict, metrics_results)\n"
   ]
  },
  {
   "cell_type": "code",
   "execution_count": null,
   "id": "e93bfe30-3bbc-4048-bd90-3e98edb9f5df",
   "metadata": {},
   "outputs": [],
   "source": []
  }
 ],
 "metadata": {
  "kernelspec": {
   "display_name": "Python 3 (ipykernel)",
   "language": "python",
   "name": "python3"
  },
  "language_info": {
   "codemirror_mode": {
    "name": "ipython",
    "version": 3
   },
   "file_extension": ".py",
   "mimetype": "text/x-python",
   "name": "python",
   "nbconvert_exporter": "python",
   "pygments_lexer": "ipython3",
   "version": "3.11.5"
  }
 },
 "nbformat": 4,
 "nbformat_minor": 5
}
