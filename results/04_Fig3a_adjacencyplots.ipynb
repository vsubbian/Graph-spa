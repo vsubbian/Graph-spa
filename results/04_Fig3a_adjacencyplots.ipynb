{
 "cells": [
  {
   "cell_type": "code",
   "execution_count": 4,
   "id": "4b6aeafb-0e23-46ac-9f07-8fe75981921e",
   "metadata": {
    "tags": []
   },
   "outputs": [],
   "source": [
    "import numpy as np"
   ]
  },
  {
   "cell_type": "markdown",
   "id": "5ca43d4a-9d66-4744-9561-7db7730979c2",
   "metadata": {},
   "source": [
    "## calculate dispersion"
   ]
  },
  {
   "cell_type": "code",
   "execution_count": 1,
   "id": "62bcc759-b91e-4295-a23e-f0d496b9a99c",
   "metadata": {
    "tags": []
   },
   "outputs": [],
   "source": [
    "from scipy.spatial.distance import pdist\n",
    "from scipy.stats import entropy\n",
    "\n",
    "def calculate_dispersion_and_entropy(matrix):\n",
    "    \"\"\"\n",
    "    Calculate dispersion (spread of non-zero elements) and entropy (distribution uniformity).\n",
    "    \n",
    "    Args:\n",
    "    - matrix (np.array): Input adjacency matrix (2D NumPy array).\n",
    "    \n",
    "    Returns:\n",
    "    - dict: Contains dispersion and entropy metrics.\n",
    "    \"\"\"\n",
    "    # Get non-zero indices\n",
    "    non_zero_indices = np.array(np.nonzero(matrix)).T\n",
    "\n",
    "    # Dispersion Metrics\n",
    "    if len(non_zero_indices) > 1:\n",
    "        # Pairwise Euclidean distances\n",
    "        pairwise_distances = pdist(non_zero_indices, metric=\"euclidean\")\n",
    "        avg_distance = np.mean(pairwise_distances)\n",
    "    else:\n",
    "        avg_distance = None  # Not enough points to calculate pairwise distances\n",
    "\n",
    "\n",
    "    return avg_distance"
   ]
  },
  {
   "cell_type": "markdown",
   "id": "fc2cfffa-1604-4781-8cdf-00b64b075fdf",
   "metadata": {},
   "source": [
    "## geometric spread"
   ]
  },
  {
   "cell_type": "code",
   "execution_count": 2,
   "id": "9ff5a4f4-e1ce-47ad-aaa6-029ec395ab06",
   "metadata": {
    "tags": []
   },
   "outputs": [],
   "source": [
    "def calculate_geometric_spread(matrix):\n",
    "    non_zero_indices = np.array(np.nonzero(matrix)).T\n",
    "    if len(non_zero_indices) > 1:\n",
    "        centroid = np.mean(non_zero_indices, axis=0)\n",
    "        distances = np.linalg.norm(non_zero_indices - centroid, axis=1)\n",
    "        return {\"avg_distance\": np.mean(distances), \"variance\": np.var(distances)}\n",
    "    return None"
   ]
  },
  {
   "cell_type": "code",
   "execution_count": 22,
   "id": "5c80fcba-f69d-47b3-a577-a63f92affefe",
   "metadata": {
    "tags": []
   },
   "outputs": [],
   "source": [
    "def return_disp_gs(matrix):\n",
    "\n",
    "    dispersion_list = []\n",
    "    avg_dist_list = []\n",
    "\n",
    "    for i in range(matrix.shape[0]):\n",
    "        # Calculate dispersion and entropy\n",
    "        results_dis = calculate_dispersion_and_entropy(matrix[i])\n",
    "        dispersion_list.append(results_dis)\n",
    "        results_gs = calculate_geometric_spread(matrix[i])\n",
    "        avg_dist_list.append(results_gs[\"avg_distance\"])\n",
    "        \n",
    "    return dispersion_list, avg_dist_list"
   ]
  },
  {
   "cell_type": "markdown",
   "id": "b69ba953-0ec4-40b9-81c2-4d8b20b6e865",
   "metadata": {},
   "source": [
    "## load hirid model matrix"
   ]
  },
  {
   "cell_type": "code",
   "execution_count": 23,
   "id": "6bf8501a-55a3-4e2e-a34d-5b73ba95f6c8",
   "metadata": {
    "tags": []
   },
   "outputs": [],
   "source": [
    "hirid_GNNbaseline = np.load('model_adjacency_matrices/HiRID/hirid_baseline_adjacency.npy')\n",
    "hirid_GNNdae = np.load('model_adjacency_matrices/HiRID/hirid_dae_adjacency.npy')"
   ]
  },
  {
   "cell_type": "markdown",
   "id": "07c7a6a5-93d2-48ab-8a17-67b881654793",
   "metadata": {},
   "source": [
    "## load mimic model matrix"
   ]
  },
  {
   "cell_type": "code",
   "execution_count": 25,
   "id": "8a4e397f-7cef-4611-81e6-0c736f416938",
   "metadata": {
    "tags": []
   },
   "outputs": [],
   "source": [
    "mimic_GNNbaseline = np.load('model_adjacency_matrices/MIMIC/mimic_baseline_adjacency.npy')\n",
    "mimic_GNNdae = np.load('model_adjacency_matrices/MIMIC/mimic_dae_adjacency.npy')"
   ]
  },
  {
   "cell_type": "markdown",
   "id": "255aced9-71dd-4ac4-98f1-154130de28c3",
   "metadata": {},
   "source": [
    "## load eicu model matrix"
   ]
  },
  {
   "cell_type": "code",
   "execution_count": 31,
   "id": "c00d651d-2187-4dba-90cd-16c9f1f231fa",
   "metadata": {
    "tags": []
   },
   "outputs": [],
   "source": [
    "eicu_GNNbaseline = np.load('model_adjacency_matrices/eICU/eicu_baseline_adjacency.npy')\n",
    "eicu_GNNdae = np.load('model_adjacency_matrices/eICU/eicu_dae_adjacency.npy')"
   ]
  },
  {
   "cell_type": "markdown",
   "id": "df87a527-b4db-4e3b-b7da-9c828dc91832",
   "metadata": {},
   "source": [
    "## load extval mimic4-eicu"
   ]
  },
  {
   "cell_type": "code",
   "execution_count": 34,
   "id": "006d9fde-904f-40de-897d-35819c75fe45",
   "metadata": {
    "tags": []
   },
   "outputs": [],
   "source": [
    "extval_me_GNNbaseline = np.load('model_adjacency_matrices/extval_MIMIC_eICU/mimiceicu_baseline_adjacency.npy')\n",
    "extval_me_GNNdae      = np.load('model_adjacency_matrices/extval_MIMIC_eICU/mimiceicu_dae_adjacency.npy')"
   ]
  },
  {
   "cell_type": "markdown",
   "id": "a849fb39-5172-47da-8f00-ca9d9598ea1a",
   "metadata": {
    "tags": []
   },
   "source": [
    "## load extval eicu-mimic4 "
   ]
  },
  {
   "cell_type": "code",
   "execution_count": 36,
   "id": "8b65f27d-beca-4b10-9052-c5b28045dcd4",
   "metadata": {
    "tags": []
   },
   "outputs": [],
   "source": [
    "extval_em_GNNbaseline = np.load('model_adjacency_matrices/extval_eICU_MIMIC/eicumimic_baseline_adjacency.npy')\n",
    "extval_em_GNNdae = np.load('model_adjacency_matrices/extval_eICU_MIMIC/eicumimic_dae_adjacency.npy')"
   ]
  },
  {
   "cell_type": "markdown",
   "id": "0b751e8a-0d2d-41d1-bb88-94d767bcc9ec",
   "metadata": {},
   "source": [
    "## get values"
   ]
  },
  {
   "cell_type": "code",
   "execution_count": 44,
   "id": "66157a1a-83f7-4633-bacb-edb15ba35360",
   "metadata": {
    "tags": []
   },
   "outputs": [],
   "source": [
    "dispersion_hirid_baseline, gs_hirid_baseline = return_disp_gs(hirid_GNNbaseline)\n",
    "dispersion_hirid_dae, gs_hirid_dae           = return_disp_gs(hirid_GNNdae)"
   ]
  },
  {
   "cell_type": "code",
   "execution_count": 45,
   "id": "08a01603-e51c-4625-ade2-787028b1beb1",
   "metadata": {
    "tags": []
   },
   "outputs": [],
   "source": [
    "dispersion_mimic_baseline, gs_mimic_baseline = return_disp_gs(mimic_GNNbaseline)\n",
    "dispersion_mimic_dae, gs_mimic_dae           = return_disp_gs(mimic_GNNdae)"
   ]
  },
  {
   "cell_type": "code",
   "execution_count": 46,
   "id": "1ccd14a1-45ed-47ef-ab1c-4f322017af09",
   "metadata": {
    "tags": []
   },
   "outputs": [],
   "source": [
    "dispersion_eicu_baseline, gs_eicu_baseline = return_disp_gs(eicu_GNNbaseline)\n",
    "dispersion_eicu_dae, gs_eicu_dae           = return_disp_gs(eicu_GNNdae)"
   ]
  },
  {
   "cell_type": "code",
   "execution_count": 47,
   "id": "d48e7948-c861-4225-89a3-4c59e7ba1365",
   "metadata": {
    "tags": []
   },
   "outputs": [],
   "source": [
    "dispersion_mimiceicu_baseline, gs_mimiceicu_baseline = return_disp_gs(extval_me_GNNbaseline)\n",
    "dispersion_mimiceicu_dae, gs_mimiceicu_dae           = return_disp_gs(extval_me_GNNdae)"
   ]
  },
  {
   "cell_type": "code",
   "execution_count": 48,
   "id": "3b7abeb6-c8d1-4f36-ac90-47a7f745b8d2",
   "metadata": {
    "tags": []
   },
   "outputs": [],
   "source": [
    "dispersion_eicumimic_baseline, gs_eicumimic_baseline = return_disp_gs(extval_em_GNNbaseline)\n",
    "dispersion_eicumimic_dae, gs_eicumimic_dae           = return_disp_gs(extval_em_GNNdae)"
   ]
  }
 ],
 "metadata": {
  "kernelspec": {
   "display_name": "Python 3 (ipykernel)",
   "language": "python",
   "name": "python3"
  },
  "language_info": {
   "codemirror_mode": {
    "name": "ipython",
    "version": 3
   },
   "file_extension": ".py",
   "mimetype": "text/x-python",
   "name": "python",
   "nbconvert_exporter": "python",
   "pygments_lexer": "ipython3",
   "version": "3.11.5"
  }
 },
 "nbformat": 4,
 "nbformat_minor": 5
}
